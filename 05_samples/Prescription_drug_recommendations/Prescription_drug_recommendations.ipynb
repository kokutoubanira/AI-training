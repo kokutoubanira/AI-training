{
  "cells": [
    {
      "metadata": {},
      "cell_type": "markdown",
      "source": "# 処方薬のレコメンド"
    },
    {
      "metadata": {},
      "cell_type": "markdown",
      "source": "## 実行に必要なライブラリをインストール"
    },
    {
      "metadata": {
        "trusted": true
      },
      "cell_type": "code",
      "source": "!pip install --upgrade pip\n!pip install opencv-python",
      "execution_count": 17,
      "outputs": [
        {
          "output_type": "stream",
          "text": "Requirement already up-to-date: pip in /home/nbuser/anaconda3_501/lib/python3.6/site-packages (20.0.2)\nCollecting opencv-python\n  Downloading opencv_python-4.2.0.34-cp36-cp36m-manylinux1_x86_64.whl (28.2 MB)\n\u001b[K     |████████████████████████████████| 28.2 MB 45.0 MB/s eta 0:00:01     |████████████████████████▉       | 21.8 MB 45.0 MB/s eta 0:00:01\n\u001b[?25hRequirement already satisfied: numpy>=1.11.3 in /home/nbuser/anaconda3_501/lib/python3.6/site-packages (from opencv-python) (1.16.2)\nInstalling collected packages: opencv-python\nSuccessfully installed opencv-python-4.2.0.34\n",
          "name": "stdout"
        }
      ]
    },
    {
      "metadata": {},
      "cell_type": "markdown",
      "source": "20人分のデータを用意"
    },
    {
      "metadata": {
        "trusted": true
      },
      "cell_type": "code",
      "source": "data = [\n    {'age':33, 'sex':'F', \"BP\":\"high\", \"cholesterol\":\"high\", \"Na\":0.66, \"K\":0.06, \"drug\":\"A\"},\n    {'age':77, 'sex':'F', \"BP\":\"high\", \"cholesterol\":\"normal\", \"Na\":0.19, \"K\":0.03, \"drug\":\"D\"},\n    {'age':88, 'sex':'M', \"BP\":\"normal\", \"cholesterol\":\"normal\", \"Na\":0.80, \"K\":0.05, \"drug\":\"B\"},\n    {'age':39, 'sex':'F', \"BP\":\"low\", \"cholesterol\":\"normal\", \"Na\":0.19, \"K\":0.02, \"drug\":\"C\"},\n    {'age':43, 'sex':'M', \"BP\":\"normal\", \"cholesterol\":\"high\", \"Na\":0.36, \"K\":0.03, \"drug\":\"D\"},\n    {'age':82, 'sex':'F', \"BP\":\"normal\", \"cholesterol\":\"normal\", \"Na\":0.09, \"K\":0.09, \"drug\":\"C\"},\n    {'age':40, 'sex':'M', \"BP\":\"high\", \"cholesterol\":\"normal\", \"Na\":0.89, \"K\":0.02, \"drug\":\"A\"},\n    {'age':88, 'sex':'M', \"BP\":\"normal\", \"cholesterol\":\"normal\", \"Na\":0.80, \"K\":0.05, \"drug\":\"B\"},\n    {'age':29, 'sex':'F', \"BP\":\"high\", \"cholesterol\":\"normal\", \"Na\":0.35, \"K\":0.04, \"drug\":\"D\"},\n    {'age':53, 'sex':'F', \"BP\":\"normal\", \"cholesterol\":\"normal\", \"Na\":0.54, \"K\":0.06, \"drug\":\"C\"},\n    {'age':63, 'sex':'M', \"BP\":\"low\", \"cholesterol\":\"high\", \"Na\":0.86, \"K\":0.09, \"drug\":\"B\"},\n    {'age':60, 'sex':'M', \"BP\":\"low\", \"cholesterol\":\"normal\", \"Na\":0.66, \"K\":0.04, \"drug\":\"D\"},\n    {'age':55, 'sex':'M', \"BP\":\"high\", \"cholesterol\":\"high\", \"Na\":0.82, \"K\":0.04, \"drug\":\"B\"},\n    {'age':35, 'sex':'F', \"BP\":\"normal\", \"cholesterol\":\"high\", \"Na\":0.27, \"K\":0.03, \"drug\":\"D\"},\n    {'age':23, 'sex':'F', \"BP\":\"high\", \"cholesterol\":\"high\", \"Na\":0.55, \"K\":0.08, \"drug\":\"A\"},\n    {'age':49, 'sex':'F', \"BP\":\"low\", \"cholesterol\":\"normal\", \"Na\":0.27, \"K\":0.02, \"drug\":\"C\"},\n    {'age':27, 'sex':'M', \"BP\":\"normal\", \"cholesterol\":\"normal\", \"Na\":0.77, \"K\":0.02, \"drug\":\"B\"},\n    {'age':51, 'sex':'F', \"BP\":\"low\", \"cholesterol\":\"high\", \"Na\":0.20, \"K\":0.02, \"drug\":\"D\"},\n    {'age':38, 'sex':'M', \"BP\":\"high\", \"cholesterol\":\"normal\", \"Na\":0.78, \"K\":0.05, \"drug\":\"A\"},\n]",
      "execution_count": 3,
      "outputs": []
    },
    {
      "metadata": {},
      "cell_type": "markdown",
      "source": "一見不規則に見えるデータにも実際には患者の血液と処方薬の間に明確な関係があります。\nそこで、隠れた関係性を見つけたいと思います。"
    },
    {
      "metadata": {
        "trusted": true
      },
      "cell_type": "code",
      "source": "import numpy as np\nfeature_names = np.array([\"age\", \"sex\", \"BP\", \"Na\", \"K\"])\ntarget_names = np.array([\"A\", \"B\", \"C\", \"D\"])",
      "execution_count": 26,
      "outputs": []
    },
    {
      "metadata": {
        "trusted": true
      },
      "cell_type": "code",
      "source": "target = [d['drug'] for d in data]\ntarget",
      "execution_count": 4,
      "outputs": [
        {
          "output_type": "execute_result",
          "execution_count": 4,
          "data": {
            "text/plain": "['A',\n 'D',\n 'B',\n 'C',\n 'D',\n 'C',\n 'A',\n 'B',\n 'D',\n 'C',\n 'B',\n 'D',\n 'B',\n 'D',\n 'A',\n 'C',\n 'B',\n 'D',\n 'A']"
          },
          "metadata": {}
        }
      ]
    },
    {
      "metadata": {
        "trusted": true
      },
      "cell_type": "code",
      "source": "[d.pop('drug') for d in data]",
      "execution_count": 5,
      "outputs": [
        {
          "output_type": "execute_result",
          "execution_count": 5,
          "data": {
            "text/plain": "['A',\n 'D',\n 'B',\n 'C',\n 'D',\n 'C',\n 'A',\n 'B',\n 'D',\n 'C',\n 'B',\n 'D',\n 'B',\n 'D',\n 'A',\n 'C',\n 'B',\n 'D',\n 'A']"
          },
          "metadata": {}
        }
      ]
    },
    {
      "metadata": {
        "trusted": true
      },
      "cell_type": "code",
      "source": "import matplotlib.pyplot as plt\n%matplotlib inline\nplt.style.use('ggplot')",
      "execution_count": 6,
      "outputs": []
    },
    {
      "metadata": {
        "trusted": true
      },
      "cell_type": "code",
      "source": "age = [d['age'] for d in data]\nage",
      "execution_count": 7,
      "outputs": [
        {
          "output_type": "execute_result",
          "execution_count": 7,
          "data": {
            "text/plain": "[33, 77, 88, 39, 43, 82, 40, 88, 29, 53, 63, 60, 55, 35, 23, 49, 27, 51, 38]"
          },
          "metadata": {}
        }
      ]
    },
    {
      "metadata": {
        "trusted": true
      },
      "cell_type": "code",
      "source": "sodium = [d['Na'] for d in data]\npotassium = [d['K'] for d in data]",
      "execution_count": 8,
      "outputs": []
    },
    {
      "metadata": {
        "trusted": true
      },
      "cell_type": "code",
      "source": "plt.scatter(sodium, potassium)\nplt.xlabel('sodium')\nplt.ylabel('potassium')\n",
      "execution_count": 9,
      "outputs": [
        {
          "output_type": "execute_result",
          "execution_count": 9,
          "data": {
            "text/plain": "Text(0, 0.5, 'potassium')"
          },
          "metadata": {}
        },
        {
          "output_type": "display_data",
          "data": {
            "image/png": "[encoded data removed]",
            "text/plain": "<Figure size 432x288 with 1 Axes>"
          },
          "metadata": {
            "needs_background": "light"
          }
        }
      ]
    },
    {
      "metadata": {},
      "cell_type": "markdown",
      "source": "これはナトリウム(sodium)とカリウム(potassium)の濃度による調査です"
    },
    {
      "metadata": {
        "trusted": true
      },
      "cell_type": "code",
      "source": "target = [ord(t) - 65 for t in target]\ntarget",
      "execution_count": 10,
      "outputs": [
        {
          "output_type": "execute_result",
          "execution_count": 10,
          "data": {
            "text/plain": "[0, 3, 1, 2, 3, 2, 0, 1, 3, 2, 1, 3, 1, 3, 0, 2, 1, 3, 0]"
          },
          "metadata": {}
        }
      ]
    },
    {
      "metadata": {},
      "cell_type": "markdown",
      "source": "## 薬のデータセットの調査\n3つのグラフはデータセット内の異なる2つの特徴量の関係を示し、目標ラベル(処方された薬)に応じて色付けされています"
    },
    {
      "metadata": {
        "trusted": true
      },
      "cell_type": "code",
      "source": "plt.subplot(221)\nplt.scatter(sodium, potassium, c=target, s=100)\nplt.xlabel('sodium (Na)')\nplt.ylabel(\"potassium (K)\")\nplt.subplot(222)\nplt.scatter(age, potassium, c=target, s=100)\nplt.xlabel('age')\nplt.ylabel('potassium (K)')\nplt.subplot(223)\nplt.scatter(age, sodium, c=target, s=100)\nplt.xlabel('age')\nplt.ylabel('sodium (Na)')",
      "execution_count": 11,
      "outputs": [
        {
          "output_type": "execute_result",
          "execution_count": 11,
          "data": {
            "text/plain": "Text(0, 0.5, 'sodium (Na)')"
          },
          "metadata": {}
        },
        {
          "output_type": "display_data",
          "data": {
            "image/png": "[encoded data removed]",
            "text/plain": "<Figure size 432x288 with 3 Axes>"
          },
          "metadata": {
            "needs_background": "light"
          }
        }
      ]
    },
    {
      "metadata": {},
      "cell_type": "markdown",
      "source": ""
    },
    {
      "metadata": {
        "trusted": true
      },
      "cell_type": "code",
      "source": "from  sklearn.feature_extraction import DictVectorizer\nvec = DictVectorizer(sparse=False)\ndata_pre = vec.fit_transform(data)",
      "execution_count": 12,
      "outputs": []
    },
    {
      "metadata": {
        "trusted": true
      },
      "cell_type": "code",
      "source": "vec.get_feature_names()\nfeature_names = np.array(['BP=high', \"BP=low\", \"BP=normal\", \"k\", \"Na\", \"age\",  \"cholesterol=high\", \"cholesterol=normal\", \"sex=F\", \"sex=M\"])",
      "execution_count": 28,
      "outputs": []
    },
    {
      "metadata": {
        "trusted": true
      },
      "cell_type": "code",
      "source": "data_pre",
      "execution_count": 14,
      "outputs": [
        {
          "output_type": "execute_result",
          "execution_count": 14,
          "data": {
            "text/plain": "array([[1.0e+00, 0.0e+00, 0.0e+00, 6.0e-02, 6.6e-01, 3.3e+01, 1.0e+00,\n        0.0e+00, 1.0e+00, 0.0e+00],\n       [1.0e+00, 0.0e+00, 0.0e+00, 3.0e-02, 1.9e-01, 7.7e+01, 0.0e+00,\n        1.0e+00, 1.0e+00, 0.0e+00],\n       [0.0e+00, 0.0e+00, 1.0e+00, 5.0e-02, 8.0e-01, 8.8e+01, 0.0e+00,\n        1.0e+00, 0.0e+00, 1.0e+00],\n       [0.0e+00, 1.0e+00, 0.0e+00, 2.0e-02, 1.9e-01, 3.9e+01, 0.0e+00,\n        1.0e+00, 1.0e+00, 0.0e+00],\n       [0.0e+00, 0.0e+00, 1.0e+00, 3.0e-02, 3.6e-01, 4.3e+01, 1.0e+00,\n        0.0e+00, 0.0e+00, 1.0e+00],\n       [0.0e+00, 0.0e+00, 1.0e+00, 9.0e-02, 9.0e-02, 8.2e+01, 0.0e+00,\n        1.0e+00, 1.0e+00, 0.0e+00],\n       [1.0e+00, 0.0e+00, 0.0e+00, 2.0e-02, 8.9e-01, 4.0e+01, 0.0e+00,\n        1.0e+00, 0.0e+00, 1.0e+00],\n       [0.0e+00, 0.0e+00, 1.0e+00, 5.0e-02, 8.0e-01, 8.8e+01, 0.0e+00,\n        1.0e+00, 0.0e+00, 1.0e+00],\n       [1.0e+00, 0.0e+00, 0.0e+00, 4.0e-02, 3.5e-01, 2.9e+01, 0.0e+00,\n        1.0e+00, 1.0e+00, 0.0e+00],\n       [0.0e+00, 0.0e+00, 1.0e+00, 6.0e-02, 5.4e-01, 5.3e+01, 0.0e+00,\n        1.0e+00, 1.0e+00, 0.0e+00],\n       [0.0e+00, 1.0e+00, 0.0e+00, 9.0e-02, 8.6e-01, 6.3e+01, 1.0e+00,\n        0.0e+00, 0.0e+00, 1.0e+00],\n       [0.0e+00, 1.0e+00, 0.0e+00, 4.0e-02, 6.6e-01, 6.0e+01, 0.0e+00,\n        1.0e+00, 0.0e+00, 1.0e+00],\n       [1.0e+00, 0.0e+00, 0.0e+00, 4.0e-02, 8.2e-01, 5.5e+01, 1.0e+00,\n        0.0e+00, 0.0e+00, 1.0e+00],\n       [0.0e+00, 0.0e+00, 1.0e+00, 3.0e-02, 2.7e-01, 3.5e+01, 1.0e+00,\n        0.0e+00, 1.0e+00, 0.0e+00],\n       [1.0e+00, 0.0e+00, 0.0e+00, 8.0e-02, 5.5e-01, 2.3e+01, 1.0e+00,\n        0.0e+00, 1.0e+00, 0.0e+00],\n       [0.0e+00, 1.0e+00, 0.0e+00, 2.0e-02, 2.7e-01, 4.9e+01, 0.0e+00,\n        1.0e+00, 1.0e+00, 0.0e+00],\n       [0.0e+00, 0.0e+00, 1.0e+00, 2.0e-02, 7.7e-01, 2.7e+01, 0.0e+00,\n        1.0e+00, 0.0e+00, 1.0e+00],\n       [0.0e+00, 1.0e+00, 0.0e+00, 2.0e-02, 2.0e-01, 5.1e+01, 1.0e+00,\n        0.0e+00, 1.0e+00, 0.0e+00],\n       [1.0e+00, 0.0e+00, 0.0e+00, 5.0e-02, 7.8e-01, 3.8e+01, 0.0e+00,\n        1.0e+00, 0.0e+00, 1.0e+00]])"
          },
          "metadata": {}
        }
      ]
    },
    {
      "metadata": {
        "trusted": true
      },
      "cell_type": "code",
      "source": "import numpy as np\ndata_pre = np.array(data_pre, dtype=np.float32)\ntarget = np.array(target, dtype=np.float32)",
      "execution_count": 15,
      "outputs": []
    },
    {
      "metadata": {
        "trusted": true
      },
      "cell_type": "code",
      "source": "import sklearn.model_selection as ms \nX_train, X_test, y_train, y_test = ms.train_test_split(data_pre, target, test_size=5, random_state=42)",
      "execution_count": 16,
      "outputs": []
    },
    {
      "metadata": {
        "trusted": true
      },
      "cell_type": "code",
      "source": "from sklearn import tree\ndtc = tree.DecisionTreeClassifier(max_depth=10)",
      "execution_count": 37,
      "outputs": []
    },
    {
      "metadata": {
        "trusted": true
      },
      "cell_type": "code",
      "source": "dtc.fit(X_train, y_train)",
      "execution_count": 38,
      "outputs": [
        {
          "output_type": "execute_result",
          "execution_count": 38,
          "data": {
            "text/plain": "DecisionTreeClassifier(class_weight=None, criterion='gini', max_depth=10,\n            max_features=None, max_leaf_nodes=None,\n            min_impurity_decrease=0.0, min_impurity_split=None,\n            min_samples_leaf=1, min_samples_split=2,\n            min_weight_fraction_leaf=0.0, presort=False, random_state=None,\n            splitter='best')"
          },
          "metadata": {}
        }
      ]
    },
    {
      "metadata": {
        "trusted": true
      },
      "cell_type": "code",
      "source": "dtc.score(X_train, y_train)",
      "execution_count": 39,
      "outputs": [
        {
          "output_type": "execute_result",
          "execution_count": 39,
          "data": {
            "text/plain": "1.0"
          },
          "metadata": {}
        }
      ]
    },
    {
      "metadata": {
        "trusted": true
      },
      "cell_type": "code",
      "source": "dtc.score(X_test, y_test)",
      "execution_count": 40,
      "outputs": [
        {
          "output_type": "execute_result",
          "execution_count": 40,
          "data": {
            "text/plain": "0.4"
          },
          "metadata": {}
        }
      ]
    },
    {
      "metadata": {
        "trusted": true
      },
      "cell_type": "code",
      "source": "with open(\"tree.dot\", 'w') as f:\n    f = tree.export_graphviz(dtc, out_file=f, feature_names=feature_names, class_names=target_names)",
      "execution_count": 41,
      "outputs": []
    },
    {
      "metadata": {},
      "cell_type": "markdown",
      "source": "## 内部の仕組みを見てみよう"
    },
    {
      "metadata": {
        "trusted": true
      },
      "cell_type": "code",
      "source": "# tree.dotファイルを可視化\nimport graphviz\nwith open('tree.dot') as f:\n    dot_graph = f.read()\n\ngraphviz.Source(dot_graph)",
      "execution_count": 42,
      "outputs": [
        {
          "output_type": "execute_result",
          "execution_count": 42,
          "data": {
            "text/plain": "<graphviz.files.Source at 0x7f1d43bba358>",
            "image/svg+xml": "<?xml version=\"1.0\" encoding=\"UTF-8\" standalone=\"no\"?>\n<!DOCTYPE svg PUBLIC \"-//W3C//DTD SVG 1.1//EN\"\n \"http://www.w3.org/Graphics/SVG/1.1/DTD/svg11.dtd\">\n<!-- Generated by graphviz version 2.38.0 (20140413.2041)\n -->\n<!-- Title: Tree Pages: 1 -->\n<svg width=\"618pt\" height=\"433pt\"\n viewBox=\"0.00 0.00 618.00 433.00\" xmlns=\"http://www.w3.org/2000/svg\" xmlns:xlink=\"http://www.w3.org/1999/xlink\">\n<g id=\"graph0\" class=\"graph\" transform=\"scale(1 1) rotate(0) translate(4 429)\">\n<title>Tree</title>\n<polygon fill=\"white\" stroke=\"none\" points=\"-4,4 -4,-429 614,-429 614,4 -4,4\"/>\n<!-- 0 -->\n<g id=\"node1\" class=\"node\"><title>0</title>\n<polygon fill=\"none\" stroke=\"black\" points=\"330,-425 210,-425 210,-342 330,-342 330,-425\"/>\n<text text-anchor=\"middle\" x=\"270\" y=\"-409.8\" font-family=\"Times,serif\" font-size=\"14.00\">Na &lt;= 0.545</text>\n<text text-anchor=\"middle\" x=\"270\" y=\"-394.8\" font-family=\"Times,serif\" font-size=\"14.00\">gini = 0.735</text>\n<text text-anchor=\"middle\" x=\"270\" y=\"-379.8\" font-family=\"Times,serif\" font-size=\"14.00\">samples = 14</text>\n<text text-anchor=\"middle\" x=\"270\" y=\"-364.8\" font-family=\"Times,serif\" font-size=\"14.00\">value = [3, 5, 3, 3]</text>\n<text text-anchor=\"middle\" x=\"270\" y=\"-349.8\" font-family=\"Times,serif\" font-size=\"14.00\">class = B</text>\n</g>\n<!-- 1 -->\n<g id=\"node2\" class=\"node\"><title>1</title>\n<polygon fill=\"none\" stroke=\"black\" points=\"268.5,-306 119.5,-306 119.5,-223 268.5,-223 268.5,-306\"/>\n<text text-anchor=\"middle\" x=\"194\" y=\"-290.8\" font-family=\"Times,serif\" font-size=\"14.00\">cholesterol=high &lt;= 0.5</text>\n<text text-anchor=\"middle\" x=\"194\" y=\"-275.8\" font-family=\"Times,serif\" font-size=\"14.00\">gini = 0.5</text>\n<text text-anchor=\"middle\" x=\"194\" y=\"-260.8\" font-family=\"Times,serif\" font-size=\"14.00\">samples = 6</text>\n<text text-anchor=\"middle\" x=\"194\" y=\"-245.8\" font-family=\"Times,serif\" font-size=\"14.00\">value = [0, 0, 3, 3]</text>\n<text text-anchor=\"middle\" x=\"194\" y=\"-230.8\" font-family=\"Times,serif\" font-size=\"14.00\">class = C</text>\n</g>\n<!-- 0&#45;&gt;1 -->\n<g id=\"edge1\" class=\"edge\"><title>0&#45;&gt;1</title>\n<path fill=\"none\" stroke=\"black\" d=\"M243.632,-341.907C237.914,-333.105 231.807,-323.703 225.902,-314.612\"/>\n<polygon fill=\"black\" stroke=\"black\" points=\"228.704,-312.5 220.321,-306.021 222.833,-316.313 228.704,-312.5\"/>\n<text text-anchor=\"middle\" x=\"215.126\" y=\"-326.775\" font-family=\"Times,serif\" font-size=\"14.00\">True</text>\n</g>\n<!-- 4 -->\n<g id=\"node5\" class=\"node\"><title>4</title>\n<polygon fill=\"none\" stroke=\"black\" points=\"406,-306 286,-306 286,-223 406,-223 406,-306\"/>\n<text text-anchor=\"middle\" x=\"346\" y=\"-290.8\" font-family=\"Times,serif\" font-size=\"14.00\">BP=high &lt;= 0.5</text>\n<text text-anchor=\"middle\" x=\"346\" y=\"-275.8\" font-family=\"Times,serif\" font-size=\"14.00\">gini = 0.469</text>\n<text text-anchor=\"middle\" x=\"346\" y=\"-260.8\" font-family=\"Times,serif\" font-size=\"14.00\">samples = 8</text>\n<text text-anchor=\"middle\" x=\"346\" y=\"-245.8\" font-family=\"Times,serif\" font-size=\"14.00\">value = [3, 5, 0, 0]</text>\n<text text-anchor=\"middle\" x=\"346\" y=\"-230.8\" font-family=\"Times,serif\" font-size=\"14.00\">class = B</text>\n</g>\n<!-- 0&#45;&gt;4 -->\n<g id=\"edge4\" class=\"edge\"><title>0&#45;&gt;4</title>\n<path fill=\"none\" stroke=\"black\" d=\"M296.368,-341.907C302.086,-333.105 308.193,-323.703 314.098,-314.612\"/>\n<polygon fill=\"black\" stroke=\"black\" points=\"317.167,-316.313 319.679,-306.021 311.296,-312.5 317.167,-316.313\"/>\n<text text-anchor=\"middle\" x=\"324.874\" y=\"-326.775\" font-family=\"Times,serif\" font-size=\"14.00\">False</text>\n</g>\n<!-- 2 -->\n<g id=\"node3\" class=\"node\"><title>2</title>\n<polygon fill=\"none\" stroke=\"black\" points=\"120,-179.5 7.10543e-15,-179.5 7.10543e-15,-111.5 120,-111.5 120,-179.5\"/>\n<text text-anchor=\"middle\" x=\"60\" y=\"-164.3\" font-family=\"Times,serif\" font-size=\"14.00\">gini = 0.0</text>\n<text text-anchor=\"middle\" x=\"60\" y=\"-149.3\" font-family=\"Times,serif\" font-size=\"14.00\">samples = 3</text>\n<text text-anchor=\"middle\" x=\"60\" y=\"-134.3\" font-family=\"Times,serif\" font-size=\"14.00\">value = [0, 0, 3, 0]</text>\n<text text-anchor=\"middle\" x=\"60\" y=\"-119.3\" font-family=\"Times,serif\" font-size=\"14.00\">class = C</text>\n</g>\n<!-- 1&#45;&gt;2 -->\n<g id=\"edge2\" class=\"edge\"><title>1&#45;&gt;2</title>\n<path fill=\"none\" stroke=\"black\" d=\"M147.509,-222.907C133.987,-211.101 119.231,-198.217 105.754,-186.45\"/>\n<polygon fill=\"black\" stroke=\"black\" points=\"107.821,-183.608 97.9861,-179.667 103.217,-188.881 107.821,-183.608\"/>\n</g>\n<!-- 3 -->\n<g id=\"node4\" class=\"node\"><title>3</title>\n<polygon fill=\"none\" stroke=\"black\" points=\"258,-179.5 138,-179.5 138,-111.5 258,-111.5 258,-179.5\"/>\n<text text-anchor=\"middle\" x=\"198\" y=\"-164.3\" font-family=\"Times,serif\" font-size=\"14.00\">gini = 0.0</text>\n<text text-anchor=\"middle\" x=\"198\" y=\"-149.3\" font-family=\"Times,serif\" font-size=\"14.00\">samples = 3</text>\n<text text-anchor=\"middle\" x=\"198\" y=\"-134.3\" font-family=\"Times,serif\" font-size=\"14.00\">value = [0, 0, 0, 3]</text>\n<text text-anchor=\"middle\" x=\"198\" y=\"-119.3\" font-family=\"Times,serif\" font-size=\"14.00\">class = D</text>\n</g>\n<!-- 1&#45;&gt;3 -->\n<g id=\"edge3\" class=\"edge\"><title>1&#45;&gt;3</title>\n<path fill=\"none\" stroke=\"black\" d=\"M195.388,-222.907C195.754,-212.204 196.15,-200.615 196.52,-189.776\"/>\n<polygon fill=\"black\" stroke=\"black\" points=\"200.022,-189.781 196.866,-179.667 193.026,-189.541 200.022,-189.781\"/>\n</g>\n<!-- 5 -->\n<g id=\"node6\" class=\"node\"><title>5</title>\n<polygon fill=\"none\" stroke=\"black\" points=\"403,-179.5 283,-179.5 283,-111.5 403,-111.5 403,-179.5\"/>\n<text text-anchor=\"middle\" x=\"343\" y=\"-164.3\" font-family=\"Times,serif\" font-size=\"14.00\">gini = 0.0</text>\n<text text-anchor=\"middle\" x=\"343\" y=\"-149.3\" font-family=\"Times,serif\" font-size=\"14.00\">samples = 4</text>\n<text text-anchor=\"middle\" x=\"343\" y=\"-134.3\" font-family=\"Times,serif\" font-size=\"14.00\">value = [0, 4, 0, 0]</text>\n<text text-anchor=\"middle\" x=\"343\" y=\"-119.3\" font-family=\"Times,serif\" font-size=\"14.00\">class = B</text>\n</g>\n<!-- 4&#45;&gt;5 -->\n<g id=\"edge5\" class=\"edge\"><title>4&#45;&gt;5</title>\n<path fill=\"none\" stroke=\"black\" d=\"M344.959,-222.907C344.685,-212.204 344.388,-200.615 344.11,-189.776\"/>\n<polygon fill=\"black\" stroke=\"black\" points=\"347.606,-189.574 343.85,-179.667 340.608,-189.753 347.606,-189.574\"/>\n</g>\n<!-- 6 -->\n<g id=\"node7\" class=\"node\"><title>6</title>\n<polygon fill=\"none\" stroke=\"black\" points=\"541,-187 421,-187 421,-104 541,-104 541,-187\"/>\n<text text-anchor=\"middle\" x=\"481\" y=\"-171.8\" font-family=\"Times,serif\" font-size=\"14.00\">age &lt;= 47.5</text>\n<text text-anchor=\"middle\" x=\"481\" y=\"-156.8\" font-family=\"Times,serif\" font-size=\"14.00\">gini = 0.375</text>\n<text text-anchor=\"middle\" x=\"481\" y=\"-141.8\" font-family=\"Times,serif\" font-size=\"14.00\">samples = 4</text>\n<text text-anchor=\"middle\" x=\"481\" y=\"-126.8\" font-family=\"Times,serif\" font-size=\"14.00\">value = [3, 1, 0, 0]</text>\n<text text-anchor=\"middle\" x=\"481\" y=\"-111.8\" font-family=\"Times,serif\" font-size=\"14.00\">class = A</text>\n</g>\n<!-- 4&#45;&gt;6 -->\n<g id=\"edge6\" class=\"edge\"><title>4&#45;&gt;6</title>\n<path fill=\"none\" stroke=\"black\" d=\"M392.838,-222.907C403.728,-213.469 415.412,-203.343 426.597,-193.649\"/>\n<polygon fill=\"black\" stroke=\"black\" points=\"428.981,-196.215 434.245,-187.021 424.396,-190.925 428.981,-196.215\"/>\n</g>\n<!-- 7 -->\n<g id=\"node8\" class=\"node\"><title>7</title>\n<polygon fill=\"none\" stroke=\"black\" points=\"472,-68 352,-68 352,-0 472,-0 472,-68\"/>\n<text text-anchor=\"middle\" x=\"412\" y=\"-52.8\" font-family=\"Times,serif\" font-size=\"14.00\">gini = 0.0</text>\n<text text-anchor=\"middle\" x=\"412\" y=\"-37.8\" font-family=\"Times,serif\" font-size=\"14.00\">samples = 3</text>\n<text text-anchor=\"middle\" x=\"412\" y=\"-22.8\" font-family=\"Times,serif\" font-size=\"14.00\">value = [3, 0, 0, 0]</text>\n<text text-anchor=\"middle\" x=\"412\" y=\"-7.8\" font-family=\"Times,serif\" font-size=\"14.00\">class = A</text>\n</g>\n<!-- 6&#45;&gt;7 -->\n<g id=\"edge7\" class=\"edge\"><title>6&#45;&gt;7</title>\n<path fill=\"none\" stroke=\"black\" d=\"M455.307,-103.726C449.789,-94.9703 443.95,-85.7032 438.406,-76.9051\"/>\n<polygon fill=\"black\" stroke=\"black\" points=\"441.276,-74.8941 432.983,-68.2996 435.353,-78.6259 441.276,-74.8941\"/>\n</g>\n<!-- 8 -->\n<g id=\"node9\" class=\"node\"><title>8</title>\n<polygon fill=\"none\" stroke=\"black\" points=\"610,-68 490,-68 490,-0 610,-0 610,-68\"/>\n<text text-anchor=\"middle\" x=\"550\" y=\"-52.8\" font-family=\"Times,serif\" font-size=\"14.00\">gini = 0.0</text>\n<text text-anchor=\"middle\" x=\"550\" y=\"-37.8\" font-family=\"Times,serif\" font-size=\"14.00\">samples = 1</text>\n<text text-anchor=\"middle\" x=\"550\" y=\"-22.8\" font-family=\"Times,serif\" font-size=\"14.00\">value = [0, 1, 0, 0]</text>\n<text text-anchor=\"middle\" x=\"550\" y=\"-7.8\" font-family=\"Times,serif\" font-size=\"14.00\">class = B</text>\n</g>\n<!-- 6&#45;&gt;8 -->\n<g id=\"edge8\" class=\"edge\"><title>6&#45;&gt;8</title>\n<path fill=\"none\" stroke=\"black\" d=\"M506.693,-103.726C512.211,-94.9703 518.05,-85.7032 523.594,-76.9051\"/>\n<polygon fill=\"black\" stroke=\"black\" points=\"526.647,-78.6259 529.017,-68.2996 520.724,-74.8941 526.647,-78.6259\"/>\n</g>\n</g>\n</svg>\n"
          },
          "metadata": {}
        }
      ]
    },
    {
      "metadata": {},
      "cell_type": "markdown",
      "source": "根ノード（ノード0）から見ていくと最初の質問として「ナトリウム濃度が0.72以下であるか」をたずねたことがわかります。<br>\nこの質問により、データは2つのサブグループに分かれました。<br>\n・NA<=0.545を満たす6点のグループ(ノード1)<br>\n・NA>0.545を満たす8点のグループ(ノード2)<br>\nノード１での質問は、高いコレステロール値を持たないか(cholesterol=high<0.5)であり、真となるデータ点は3点(ノード3)、偽となるデータ点は3点(ノード4)存在しました。<br>\nノード3では、3点すべてがC(class=C)という同一のラベルを持っており、これ以上分割する必要はないようです。したがってノード3は葉ノードとなります。\nノード6での質問は年齢が47.5歳よりも低いか高いかでありこの質問によってノード6に所属する4点はノード7とノード8に分割されます。"
    },
    {
      "metadata": {},
      "cell_type": "markdown",
      "source": "## 特徴量の重要性を評価する\n\n前述の根ノードはNa<=0.72でデータを分割しましたが、まずナトリウム濃度に焦点を当てるとどうやって決めたのでしょうか？<br>\nまた、0.72という数値についてもどのように決まったのでしょうか？\nすべての特徴量のうちのいくつかはおそらく他のものより重要でしょう。<br>\nでは、特徴量の重要性を可視化してみます。"
    },
    {
      "metadata": {
        "trusted": true
      },
      "cell_type": "code",
      "source": "plt.barh(range(10), dtc.feature_importances_, align='center', tick_label=vec.get_feature_names())",
      "execution_count": 49,
      "outputs": [
        {
          "output_type": "execute_result",
          "execution_count": 49,
          "data": {
            "text/plain": "<BarContainer object of 10 artists>"
          },
          "metadata": {}
        },
        {
          "output_type": "display_data",
          "data": {
            "image/png": "[encoded data removed]",
            "text/plain": "<Figure size 432x288 with 1 Axes>"
          },
          "metadata": {
            "needs_background": "light"
          }
        }
      ]
    },
    {
      "metadata": {
        "trusted": true
      },
      "cell_type": "markdown",
      "source": "どの薬が患者に処方されたかを知るために最も有効な特徴量は、患者が正常なコレステロール値を持っているかどうかであることが見て取れます。年齢、ナトリウム濃度、カリウム濃度の値も同様に重要です。一方で、性別や血圧は全く寄与していないようでした。ただ、これは性別や血圧が役に立たないということではありません。"
    },
    {
      "metadata": {
        "trusted": true
      },
      "cell_type": "code",
      "source": "",
      "execution_count": null,
      "outputs": []
    }
  ],
  "metadata": {
    "kernelspec": {
      "name": "python36",
      "display_name": "Python 3.6",
      "language": "python"
    },
    "language_info": {
      "mimetype": "text/x-python",
      "nbconvert_exporter": "python",
      "name": "python",
      "pygments_lexer": "ipython3",
      "version": "3.6.6",
      "file_extension": ".py",
      "codemirror_mode": {
        "version": 3,
        "name": "ipython"
      }
    }
  },
  "nbformat": 4,
  "nbformat_minor": 2
}