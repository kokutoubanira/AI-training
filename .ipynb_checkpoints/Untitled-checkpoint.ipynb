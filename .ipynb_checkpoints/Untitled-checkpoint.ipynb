{
  "cells": [
    {
      "metadata": {
        "trusted": true
      },
      "cell_type": "code",
      "source": "import torch\nimport numpy as np\nfrom itertools import chain\n\ndict_size = 10\ndepth = 3\nhidden_size = 6\n\n# モデル定義\nembedding = torch.nn.Embedding(dict_size, depth)\nlstm = torch.nn.LSTM(input_size=depth,\n                            hidden_size=hidden_size,\n                            batch_first=True)\nlinear = torch.nn.Linear(hidden_size, dict_size)\ncriterion = torch.nn.CrossEntropyLoss()\nparams = chain.from_iterable([\n    embedding.parameters(),\n    lstm.parameters(),\n    linear.parameters(),\n    criterion.parameters()\n])\noptimizer = torch.optim.SGD(params, lr=0.01)\n\n# 訓練用データ\nx = [[0,2,4, 6]]\ny = [8]\n\n# 学習\nfor i in range(100):\n    tensor_y = torch.tensor(y)\n    input_ = torch.tensor(x)\n    tensor = embedding(input_)\n    output, (tensor, c_n) = lstm(tensor)\n    tensor = tensor[0]\n    tensor = linear(tensor)\n    loss = criterion(tensor, tensor_y)\n    optimizer.zero_grad()\n    loss.backward()\n    optimizer.step()\n    if (i + 1) % 10 == 0:\n        print(\"{}: {}\".format(i + 1, loss.data.item()))",
      "execution_count": 12,
      "outputs": [
        {
          "output_type": "stream",
          "text": "10: 2.4506537914276123\n20: 2.3412513732910156\n30: 2.2353625297546387\n40: 2.1328160762786865\n50: 2.033475875854492\n60: 1.937238097190857\n70: 1.844030499458313\n80: 1.7538079023361206\n90: 1.6665486097335815\n100: 1.582250714302063\n",
          "name": "stdout"
        }
      ]
    },
    {
      "metadata": {
        "trusted": true
      },
      "cell_type": "code",
      "source": "tensor_y = torch.tensor(y)\ninput_ = torch.tensor(x)\ntensor = embedding(input_)\noutput, (tensor, c_n) = lstm(tensor)\ntensor = tensor[0]\ntensor = linear(tensor)\nprint(tensor)\nprint(torch.argmax(tensor))",
      "execution_count": 13,
      "outputs": [
        {
          "output_type": "stream",
          "text": "tensor([[ 0.0353,  0.1454, -0.3289,  0.0538, -0.2294, -0.2089, -0.1364, -0.4995,\n          0.7636,  0.1462]], grad_fn=<AddmmBackward>)\ntensor(8)\n",
          "name": "stdout"
        }
      ]
    },
    {
      "metadata": {
        "trusted": true
      },
      "cell_type": "code",
      "source": "import seaborn as sns\nimport matplotlib.pyplot as plt\narr_2d = tensor.detach().numpy().tolist()\nplt.figure()\nsns.heatmap(arr_2d)",
      "execution_count": 14,
      "outputs": [
        {
          "output_type": "execute_result",
          "execution_count": 14,
          "data": {
            "text/plain": "<matplotlib.axes._subplots.AxesSubplot at 0x7f254a3b5c50>"
          },
          "metadata": {}
        },
        {
          "output_type": "display_data",
          "data": {
            "image/png": "[encoded data removed]",
            "text/plain": "<Figure size 432x288 with 2 Axes>"
          },
          "metadata": {
            "needs_background": "light"
          }
        }
      ]
    },
    {
      "metadata": {
        "trusted": true
      },
      "cell_type": "code",
      "source": "",
      "execution_count": null,
      "outputs": []
    }
  ],
  "metadata": {
    "kernelspec": {
      "name": "python36",
      "display_name": "Python 3.6",
      "language": "python"
    },
    "language_info": {
      "mimetype": "text/x-python",
      "nbconvert_exporter": "python",
      "name": "python",
      "pygments_lexer": "ipython3",
      "version": "3.6.6",
      "file_extension": ".py",
      "codemirror_mode": {
        "version": 3,
        "name": "ipython"
      }
    }
  },
  "nbformat": 4,
  "nbformat_minor": 1
}