{
  "cells": [
    {
      "metadata": {
        "trusted": true
      },
      "cell_type": "code",
      "source": "data = [\n    {'name': 'Alan Turong', 'born':1912, \"died\": 1954},\n    {'name': 'Herbert A. Simon', 'born':1916, \"died\": 2001},\n    {'name': 'Jacek Karpimski', 'born':1927, \"died\": 2010},\n    {'name': 'J.C.R Licklider', 'born':1915, \"died\": 1990},\n    {'name': 'Marvin Minsky', 'born':1927, \"died\": 2016},\n]",
      "execution_count": 1,
      "outputs": []
    },
    {
      "metadata": {},
      "cell_type": "markdown",
      "source": "'born'（出生年）特徴と'died'(没年)特徴はすでに数値形式で表示されていますが、'name'特徴は符号化するのが少し面倒です。<br>次のような方法で符号化できると思うかもしれません"
    },
    {
      "metadata": {
        "trusted": true,
        "scrolled": false
      },
      "cell_type": "code",
      "source": "{'Alan Turing': 1,\n 'Herbert A. Simon': 2,\n 'Jacek Karpimski' : 3,\n  'J.C.R Licklider' : 4,\n 'Marvin Minsky' : 5\n}",
      "execution_count": 2,
      "outputs": [
        {
          "output_type": "execute_result",
          "execution_count": 2,
          "data": {
            "text/plain": "{'Alan Turing': 1,\n 'Herbert A. Simon': 2,\n 'Jacek Karpimski': 3,\n 'J.C.R Licklider': 4,\n 'Marvin Minsky': 5}"
          },
          "metadata": {}
        }
      ]
    },
    {
      "metadata": {},
      "cell_type": "markdown",
      "source": "これは良案ですが、機械学習の観点からみるとあまり意味はありません。\nなぜでしょうか？<br>\n\nなぜかというと、これらのカテゴリに順序付け可能な値を割り当てることによって、ほとんどの機械学習アルゴリズムは'Alan turing' < 'Herbert A. Simon' < 'Jacek Karpinsky'、つまり1 < 2 < 3という大小関係を導きだしてしまうからです。<br>ここで行いたかったことはこういうことではないです。<br>\n\n最初のデータ点は'Alan Turing'カテゴリに属し、これは'herbert A. Simon'カテゴリと 'Jacek karpisky'カテゴリに属していないということを本当は言いたかったわけです。言い換えれば二値符号化(binary encoding)を行いたかったのでした。"
    },
    {
      "metadata": {},
      "cell_type": "markdown",
      "source": "scikit-learnによって二値符号かを行うモジュールがあります今回はそれを使用してみます。"
    },
    {
      "metadata": {
        "trusted": true
      },
      "cell_type": "code",
      "source": "from sklearn.feature_extraction import DictVectorizer\nvec = DictVectorizer(sparse=False, dtype=int)\nvec.fit_transform(data)",
      "execution_count": 4,
      "outputs": [
        {
          "output_type": "execute_result",
          "execution_count": 4,
          "data": {
            "text/plain": "array([[1912, 1954,    1,    0,    0,    0,    0],\n       [1916, 2001,    0,    1,    0,    0,    0],\n       [1927, 2010,    0,    0,    0,    1,    0],\n       [1915, 1990,    0,    0,    1,    0,    0],\n       [1927, 2016,    0,    0,    0,    0,    1]], dtype=int64)"
          },
          "metadata": {}
        }
      ]
    },
    {
      "metadata": {},
      "cell_type": "markdown",
      "source": "ここでなにが起こったかというと2つの年に関する記載はそのまま残っていますが、残りの行は1と0に置き換えられています。\nリスト化された特徴の順序を調べてみます。"
    },
    {
      "metadata": {
        "trusted": true
      },
      "cell_type": "code",
      "source": "vec.get_feature_names()",
      "execution_count": 5,
      "outputs": [
        {
          "output_type": "execute_result",
          "execution_count": 5,
          "data": {
            "text/plain": "['born',\n 'died',\n 'name=Alan Turong',\n 'name=Herbert A. Simon',\n 'name=J.C.R Licklider',\n 'name=Jacek Karpimski',\n 'name=Marvin Minsky']"
          },
          "metadata": {}
        }
      ]
    },
    {
      "metadata": {},
      "cell_type": "markdown",
      "source": "Alan Turingを表すデータ行列の一行目は'born' = 1912, 'died'=1954,　'Alan Turing' = 1, 'Herbert A. Simon'=0, 'J.C.R Licklider' = 0, 'jacek Karpinsky'=0そして'Marvin Minsky' = 0のように符号化されました。"
    },
    {
      "metadata": {
        "trusted": true
      },
      "cell_type": "code",
      "source": "",
      "execution_count": null,
      "outputs": []
    }
  ],
  "metadata": {
    "kernelspec": {
      "name": "python36",
      "display_name": "Python 3.6",
      "language": "python"
    },
    "language_info": {
      "mimetype": "text/x-python",
      "nbconvert_exporter": "python",
      "name": "python",
      "pygments_lexer": "ipython3",
      "version": "3.6.6",
      "file_extension": ".py",
      "codemirror_mode": {
        "version": 3,
        "name": "ipython"
      }
    }
  },
  "nbformat": 4,
  "nbformat_minor": 2
}