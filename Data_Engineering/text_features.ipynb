{
  "cells": [
    {
      "metadata": {
        "trusted": true
      },
      "cell_type": "code",
      "source": "sample=[\n    'feature engineering',\n    'feature selection',\n    'feature extraction'\n]",
      "execution_count": 2,
      "outputs": []
    },
    {
      "metadata": {},
      "cell_type": "markdown",
      "source": "このようなデータを符号化する最も簡単な方法の一つは、単語数(word count)によるものです\n各熟語について、その中の各単語の出現数を単純に数えるだけです"
    },
    {
      "metadata": {
        "trusted": true
      },
      "cell_type": "code",
      "source": "from sklearn.feature_extraction.text import CountVectorizer\nvec = CountVectorizer()\nx = vec.fit_transform(sample)\nx.toarray()",
      "execution_count": 4,
      "outputs": [
        {
          "output_type": "execute_result",
          "execution_count": 4,
          "data": {
            "text/plain": "array([[1, 0, 1, 0],\n       [0, 0, 1, 1],\n       [0, 1, 1, 0]], dtype=int64)"
          },
          "metadata": {}
        }
      ]
    },
    {
      "metadata": {},
      "cell_type": "markdown",
      "source": "これらの数字の意味を確認するために、特徴名を調べるには次のようにします"
    },
    {
      "metadata": {
        "trusted": true
      },
      "cell_type": "code",
      "source": "vec.get_feature_names()",
      "execution_count": 5,
      "outputs": [
        {
          "output_type": "execute_result",
          "execution_count": 5,
          "data": {
            "text/plain": "['engineering', 'extraction', 'feature', 'selection']"
          },
          "metadata": {}
        }
      ]
    },
    {
      "metadata": {},
      "cell_type": "markdown",
      "source": "X内の整数が何を意味するのかがこれで明確になりました。Xの一番上の行に表示されている熟語を見ると'engineering'という単語が１つ、'feature'という単語が１つ出現することがわかります。一方、'extraction'または'selection'という言葉は含まれていません。<br>\n元データをさっと確認すれば、その熟語が'feature engineering'であったことは明らかになりますよね。<br>\nこの方法に欠点が１つあるとすれば、頻出する単語に非常に大きな重みづけをする可能性があるということです。これを解決するための方法は、TF-IDFとよばれる単語がどのくらいの頻度で出現するかによって重み付けをする手法です。"
    },
    {
      "metadata": {
        "trusted": true
      },
      "cell_type": "code",
      "source": "from sklearn.feature_extraction.text import TfidfVectorizer\nvec = TfidfVectorizer()\nx = vec.fit_transform(sample)\nx.toarray()",
      "execution_count": 6,
      "outputs": [
        {
          "output_type": "execute_result",
          "execution_count": 6,
          "data": {
            "text/plain": "array([[0.861037  , 0.        , 0.50854232, 0.        ],\n       [0.        , 0.        , 0.50854232, 0.861037  ],\n       [0.        , 0.861037  , 0.50854232, 0.        ]])"
          },
          "metadata": {}
        }
      ]
    },
    {
      "metadata": {},
      "cell_type": "markdown",
      "source": "数値は以前よりも小さくなり、3列目が一番大きな影響を受けました。これは３列目が１つの熟語で最も頻繁に使用される単語'feature'に対応しているので意味が通ります。\n\n\nTF-IDFの数学的背景に興味があるならWikipediaの記事はかなり良い出発点といえます。"
    },
    {
      "metadata": {
        "trusted": true
      },
      "cell_type": "code",
      "source": "",
      "execution_count": null,
      "outputs": []
    }
  ],
  "metadata": {
    "kernelspec": {
      "name": "python36",
      "display_name": "Python 3.6",
      "language": "python"
    },
    "language_info": {
      "mimetype": "text/x-python",
      "nbconvert_exporter": "python",
      "name": "python",
      "pygments_lexer": "ipython3",
      "version": "3.6.6",
      "file_extension": ".py",
      "codemirror_mode": {
        "version": 3,
        "name": "ipython"
      }
    }
  },
  "nbformat": 4,
  "nbformat_minor": 2
}