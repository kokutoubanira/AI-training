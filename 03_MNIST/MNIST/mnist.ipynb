{
  "cells": [
    {
      "metadata": {
        "trusted": true
      },
      "cell_type": "code",
      "source": "import argparse\nimport gzip\nimport pathlib\nimport struct\nimport numpy as np\n\nimport pandas as pd\nimport requests\nfrom PIL import Image\n\n\n\ndef donwload(urls, path):\n    path.mkdir(parents=True, exist_ok=True)\n    for url in urls:\n        filepath = path / pathlib.Path(url).name\n        if not filepath.exists():\n            res = requests.get(url)\n            if res.status_code == 200:\n                with open(filepath, 'wb') as f:\n                    f.write(res.content)\n\n\ndef load(paths):\n    x_path, y_path = paths\n    with gzip.open(x_path) as fx, gzip.open(y_path) as fy:\n        fx.read(4)\n        fy.read(4)\n        N, = struct.unpack('>i', fy.read(4))\n        if N != struct.unpack('>i', fx.read(4))[0]:\n            raise RuntimeError('wrong pair of MNIST images and labels')\n        fx.read(8)\n\n        images = np.empty((N, 784), dtype=np.uint8)\n        labels = np.empty(N, dtype=np.uint8)\n        for i in range(N):\n            labels[i] = ord(fy.read(1))\n            for j in range(784):\n                images[i, j] = ord(fx.read(1))\n    return images, labels\n\n\n\n\n\ndef make_images(path, images, labels):\n\n    path.mkdir(parents=True, exist_ok=True)\n    for (i, image), label in zip(enumerate(images), labels):\n        filepath = path / '{}_{}.jpg'.format(label, i)\n        Image.fromarray(image.reshape(28, 28)).save(filepath)\n\n\n\ndef make_labellist(path, kind, labels):\n    path.mkdir(parents=True, exist_ok=True)\n    filepaths = [\n        '{}_{}.jpg'.format(label, i) for i, label in enumerate(labels)\n    ]\n    df = pd.DataFrame({'name': filepaths, 'target': labels.tolist()})\n    df.to_csv(path / '{}.csv'.format(kind), index=False, header=False)\n\n\ndef main():\n    parser = argparse.ArgumentParser(\n        description='Download and Convert MNIST binary files to image files')\n    parser.add_argument('-p', '--path', type=pathlib.Path, default='./data')\n    parser.add_argument('-o', '--out', choices=['npz', 'jpg'], default='jpg')\n    args = parser.parse_args()\n\n\n\n    def pipeline(kind):\n        _kind = kind\n        if kind == 'test':\n            _kind = 't10k'\n        baseurl = 'http://yann.lecun.com/exdb/mnist'\n        urls = [\n            '{}/{}-images-idx3-ubyte.gz'.format(baseurl, _kind),\n            '{}/{}-labels-idx1-ubyte.gz'.format(baseurl, _kind)\n        ]\n        donwload(urls, args.path / 'raw')\n\n        paths = [\n            args.path / 'raw' / '{}-images-idx3-ubyte.gz'.format(_kind),\n            args.path / 'raw' / '{}-labels-idx1-ubyte.gz'.format(_kind)\n        ]\n        images, labels = load(paths)\n\n        if args.out == 'jpg':\n            path = args.path / 'processed'\n            make_images(path / 'images' / kind, images, labels)\n            make_labellist(path / 'labels', kind, labels)\n        else:\n            path = args.path / 'processed' / 'npz'\n            path.mkdir(parents=True, exist_ok=True)\n            np.savez_compressed(\n                path / '{}.npz'.format(kind), x=images, y=labels)\n\n    print('Processing train data ...')\n    pipeline('train')\n    print('Processing test data ...')\n    pipeline('test')\n\nif __name__ == '__main__':\n    main()",
      "execution_count": 13,
      "outputs": [
        {
          "output_type": "stream",
          "text": "usage: __main__.py [-h] [-p PATH] [-o {npz,jpg}]\n__main__.py: error: unrecognized arguments: -f /home/nbuser/.local/share/jupyter/runtime/kernel-7621e317-40dd-4283-adb1-03e011b46473.json\n",
          "name": "stderr"
        },
        {
          "output_type": "error",
          "ename": "SystemExit",
          "evalue": "2",
          "traceback": [
            "An exception has occurred, use %tb to see the full traceback.\n",
            "\u001b[0;31mSystemExit\u001b[0m\u001b[0;31m:\u001b[0m 2\n"
          ]
        },
        {
          "output_type": "stream",
          "text": "/home/nbuser/anaconda3_501/lib/python3.6/site-packages/IPython/core/interactiveshell.py:3275: UserWarning: To exit: use 'exit', 'quit', or Ctrl-D.\n  warn(\"To exit: use 'exit', 'quit', or Ctrl-D.\", stacklevel=1)\n",
          "name": "stderr"
        }
      ]
    },
    {
      "metadata": {
        "trusted": true
      },
      "cell_type": "code",
      "source": "",
      "execution_count": 11,
      "outputs": [
        {
          "output_type": "error",
          "ename": "TypeError",
          "evalue": "getter() takes exactly one argument (0 given)",
          "traceback": [
            "\u001b[0;31m---------------------------------------------------------------------------\u001b[0m",
            "\u001b[0;31mTypeError\u001b[0m                                 Traceback (most recent call last)",
            "\u001b[0;32m<ipython-input-11-e551bda1b6a7>\u001b[0m in \u001b[0;36m<module>\u001b[0;34m\u001b[0m\n\u001b[0;32m----> 1\u001b[0;31m \u001b[0mtorchvision\u001b[0m\u001b[0;34m.\u001b[0m\u001b[0mdatasets\u001b[0m\u001b[0;34m.\u001b[0m\u001b[0mMNIST\u001b[0m\u001b[0;34m.\u001b[0m\u001b[0mtrain_data\u001b[0m\u001b[0;34m.\u001b[0m\u001b[0mgetter\u001b[0m\u001b[0;34m(\u001b[0m\u001b[0;34m)\u001b[0m\u001b[0;34m\u001b[0m\u001b[0m\n\u001b[0m",
            "\u001b[0;31mTypeError\u001b[0m: getter() takes exactly one argument (0 given)"
          ]
        }
      ]
    },
    {
      "metadata": {
        "trusted": true
      },
      "cell_type": "code",
      "source": "",
      "execution_count": null,
      "outputs": []
    }
  ],
  "metadata": {
    "kernelspec": {
      "name": "python36",
      "display_name": "Python 3.6",
      "language": "python"
    },
    "language_info": {
      "mimetype": "text/x-python",
      "nbconvert_exporter": "python",
      "name": "python",
      "pygments_lexer": "ipython3",
      "version": "3.6.6",
      "file_extension": ".py",
      "codemirror_mode": {
        "version": 3,
        "name": "ipython"
      }
    }
  },
  "nbformat": 4,
  "nbformat_minor": 2
}